{
 "cells": [
  {
   "cell_type": "code",
   "execution_count": 1,
   "metadata": {
    "collapsed": true
   },
   "outputs": [],
   "source": [
    "import collections\n",
    "import datetime\n",
    "import itertools\n",
    "\n",
    "import requests"
   ]
  },
  {
   "cell_type": "markdown",
   "metadata": {},
   "source": [
    "# Prison Architect custom names\n",
    "\n",
    "A little script-o-notebook thing to look at some of the worse names that snuck through the censors."
   ]
  },
  {
   "cell_type": "code",
   "execution_count": 2,
   "metadata": {
    "collapsed": false
   },
   "outputs": [],
   "source": [
    "# replicate form request from http://www.introversion.co.uk/prisonarchitect/developer/nameingame/listnameingame.html\n",
    "url = 'http://www.introversion.co.uk/prisonarchitect/developer/nameingame/listnameingame.php'\n",
    "data = {\n",
    "    'submit': 'Submit',\n",
    "#     'authorised': 'Authorised',\n",
    "#     'authorised': 'Un-Authorised',\n",
    "    'authorised': 'ALL',\n",
    "}\n",
    "unauthorized = requests.post(url=url, data={'authorised': 'Authorised'})\n",
    "authorized = requests.post(url=url, data={'authorised': 'Un-Authorised'})"
   ]
  },
  {
   "cell_type": "code",
   "execution_count": 3,
   "metadata": {
    "collapsed": false
   },
   "outputs": [
    {
     "name": "stdout",
     "output_type": "stream",
     "text": [
      "# Name in the game list made on 2016/10/04 05:34:27\n",
      "\n",
      "BEGIN prisoner\n",
      "  FirstName\t\t\"DoNotAuthorize\"\n",
      "  NickName\t\t\"\"\n",
      "  LastName\t\t\"seeID\"\n",
      "  DoB\t\t\t\"1993.12.15\"\n",
      "  Bio\t\t\t\"steamcommunity.com/id/MakaHost/\"\n",
      "  BodyType\t\t\"1\"\n",
      "  BodyScale\t\t\"1\"\n",
      "  HeadType\t\t\"22\"\n",
      "  SkinColour\t\"0xfdc901ff\"\n",
      "  Id\t\t\t\"0\"\n",
      "  Gender\t\t\"Male\"\n",
      "END\n",
      "\n",
      "BEGIN prisoner\n",
      "  FirstName\t\t\"Oskar\"\n",
      "  NickName\t\t\"Croko\"\n",
      "  LastName\t\t\"Stangenberg\"\n",
      "  DoB\t\t\t\"1986.12.08\"\n",
      "  Bio\t\t\t\"Started working on computers at a young age and worked its way up to become one of \n"
     ]
    }
   ],
   "source": [
    "print(authorized.content[:500].decode(authorized.encoding))"
   ]
  },
  {
   "cell_type": "code",
   "execution_count": 4,
   "metadata": {
    "collapsed": false
   },
   "outputs": [],
   "source": [
    "def response_to_lines(response):\n",
    "    \"\"\"Convert the byte-response to an iterable of strings\"\"\"\n",
    "    for line in response.iter_lines():\n",
    "        yield line.decode(response.encoding)\n",
    "        \n",
    "_response = requests.get('http://httpbin.org/html')\n",
    "_line = next(iter(response_to_lines(_response)))\n",
    "assert not isinstance(_line, bytes) and isinstance(_line, str)"
   ]
  },
  {
   "cell_type": "code",
   "execution_count": 5,
   "metadata": {
    "collapsed": true
   },
   "outputs": [],
   "source": [
    "def parse_data_line(line):\n",
    "    key, value = line.strip().split(maxsplit=1)\n",
    "    return (key, value.strip()[1:-1])\n",
    "    \n",
    "assert parse_data_line('  DoB\\t\\t\\t\"1993.12.15\"\\n') == ('DoB', '1993.12.15')\n",
    "assert parse_data_line('  SkinColour\\t\"0xfdc901ff\"') == ('SkinColour', '0xfdc901ff')"
   ]
  },
  {
   "cell_type": "code",
   "execution_count": 6,
   "metadata": {
    "collapsed": false
   },
   "outputs": [],
   "source": [
    "def dob_convert(dob):\n",
    "    return datetime.datetime.strptime(dob, '%Y.%m.%d')\n",
    "\n",
    "_dob = dob_convert('1993.12.15')\n",
    "assert (_dob.year, _dob.month, _dob.day) == (1993, 12, 15)"
   ]
  },
  {
   "cell_type": "code",
   "execution_count": 7,
   "metadata": {
    "collapsed": false
   },
   "outputs": [],
   "source": [
    "cleaners = {\n",
    "    'DoB': dob_convert,\n",
    "    'BodyScale': float,\n",
    "    'BodyType': int,\n",
    "    'Id': int,\n",
    "    'HeadType': int,\n",
    "}\n",
    "\n",
    "def parse_prisoner(istream):\n",
    "    '''Iterate through the stream until finding the end and return the data'''\n",
    "    for line in istream:\n",
    "        if line.startswith('END'):\n",
    "            break\n",
    "        key, value = parse_data_line(line)\n",
    "        \n",
    "        if key in cleaners:\n",
    "            value = cleaners[key](value)\n",
    "        \n",
    "        yield key, value\n",
    "\n",
    "assert dict(parse_prisoner(['a \"a\"', 'END'])) == {'a': 'a'}\n",
    "assert dict(parse_prisoner(['Id \"1234\"', 'END'])) == {'Id': 1234}\n",
    "assert (dict(parse_prisoner(['HelloThere \"What\\'s Up Doc\"', 'END'])) \n",
    "        == {'HelloThere': 'What\\'s Up Doc'})\n",
    "assert (dict(parse_prisoner(['BodyType \"2\"', 'HeadType \"3\"', 'END']))\n",
    "        == {'BodyType': 2, 'HeadType': 3})"
   ]
  },
  {
   "cell_type": "code",
   "execution_count": 8,
   "metadata": {
    "collapsed": true
   },
   "outputs": [],
   "source": [
    "parsers = {\n",
    "    'prisoner': parse_prisoner,\n",
    "}\n",
    "\n",
    "def generate_records(stream, **extras):\n",
    "    istream = iter(stream)\n",
    "    for line in istream:\n",
    "        line = line.strip()\n",
    "        \n",
    "        if not line or line.startswith('#'):\n",
    "            continue\n",
    "        \n",
    "        assert line.startswith('BEGIN')\n",
    "        \n",
    "        rectype = line[5:].strip()\n",
    "        \n",
    "        yield dict(parsers[rectype](istream), **extras)"
   ]
  },
  {
   "cell_type": "code",
   "execution_count": 9,
   "metadata": {
    "collapsed": false
   },
   "outputs": [
    {
     "name": "stdout",
     "output_type": "stream",
     "text": [
      "Authorized:     1356\n",
      "Un-Authorized: 25234\n",
      "Total:         26590\n"
     ]
    }
   ],
   "source": [
    "authed = list(generate_records(response_to_lines(authorized), Authorized=True))\n",
    "unauthed = list(generate_records(response_to_lines(unauthorized), Authorized=False))\n",
    "data = authed + unauthed\n",
    "\n",
    "print('Authorized:    {:>5d}\\n'\n",
    "      'Un-Authorized: {:>5d}\\n'\n",
    "      'Total:         {:>5d}'\n",
    "      .format(len(authed), len(unauthed), len(data)))"
   ]
  },
  {
   "cell_type": "code",
   "execution_count": 38,
   "metadata": {
    "collapsed": false
   },
   "outputs": [
    {
     "data": {
      "text/plain": [
       "{'Authorized',\n",
       " 'Bio',\n",
       " 'BodyScale',\n",
       " 'BodyType',\n",
       " 'DoB',\n",
       " 'FirstName',\n",
       " 'Gender',\n",
       " 'HeadType',\n",
       " 'Id',\n",
       " 'LastName',\n",
       " 'NickName',\n",
       " 'SkinColour'}"
      ]
     },
     "execution_count": 38,
     "metadata": {},
     "output_type": "execute_result"
    }
   ],
   "source": [
    "# All keys in the records\n",
    "all_keys = set().union(*(d.keys() for d in data))\n",
    "all_keys"
   ]
  },
  {
   "cell_type": "code",
   "execution_count": 11,
   "metadata": {
    "collapsed": false
   },
   "outputs": [
    {
     "name": "stdout",
     "output_type": "stream",
     "text": [
      "Body\n",
      "  Types:  {1, 2, 3, 4}\n",
      "  Scales: {0.85, 1.0, 1.1, 1.05, 0.95, 1.125, 0.8}\n",
      "\n",
      "HeadTypes: {0, 1, 2, 3, 4, 5, 6, 7, 8, 9, 10, 11, 12, 13, 14, 15, 16, 17, 18, 19, 20, 21, 22, 23, 24, 25, 26, 27, 28, 29, 30, 31, 32, 33, 34, 35, 36, 37, 38, 39}\n"
     ]
    }
   ],
   "source": [
    "def unique_keys(k):\n",
    "    return {d[k] for d in data if k in d}\n",
    "\n",
    "print(\"Body\\n  Types:  {}\\n  Scales: {}\\n\\nHeadTypes: {}\".format(\n",
    "    unique_keys('BodyType'),\n",
    "    unique_keys('BodyScale'),\n",
    "    unique_keys('HeadType'),\n",
    "))"
   ]
  },
  {
   "cell_type": "markdown",
   "metadata": {},
   "source": [
    "# The Cancer"
   ]
  },
  {
   "cell_type": "code",
   "execution_count": 12,
   "metadata": {
    "collapsed": false
   },
   "outputs": [
    {
     "data": {
      "text/plain": [
       "[{'Authorized': False,\n",
       "  'Bio': '20 Minutes of Action. 50 Free Shots For Everyone. Professional Airplane Hijacker and pilot. Vegan and feminazi. Vapes All Day Everyday. Supports Communism and Multiculture. Religion is unknown. Never have played 33% of his Steam Games. TheEnd',\n",
       "  'BodyScale': 1.0,\n",
       "  'BodyType': 4,\n",
       "  'DoB': datetime.datetime(1999, 5, 29, 0, 0),\n",
       "  'FirstName': 'Elmo',\n",
       "  'Gender': 'Male',\n",
       "  'HeadType': 11,\n",
       "  'Id': 258541,\n",
       "  'LastName': 'Hiiva',\n",
       "  'NickName': \"''Leipuri Derbi''\",\n",
       "  'SkinColour': '0xfdc97bff'},\n",
       " {'Authorized': False,\n",
       "  'Bio': \"Young student,hobby playing video games all day. Gets into heated argument online, tells 'f*ck you' to another person on twitter, person is a feminazi, calls the police, accused of harassment, judge rules 'feels over realz' convicted of rape.\",\n",
       "  'BodyScale': 1.0,\n",
       "  'BodyType': 1,\n",
       "  'DoB': datetime.datetime(1996, 12, 22, 0, 0),\n",
       "  'FirstName': 'Francisco',\n",
       "  'Gender': 'Male',\n",
       "  'HeadType': 27,\n",
       "  'Id': 415061,\n",
       "  'LastName': 'Corral',\n",
       "  'NickName': '',\n",
       "  'SkinColour': '0xfdc689ff'},\n",
       " {'Authorized': False,\n",
       "  'Bio': 'Realizing that SocialJusticeWarrior-Feminazi-Tumblrinas with fictional genders are the downfall of our civilization he set out on the quest to end their eternal triggering...by pulling the trigger.',\n",
       "  'BodyScale': 1.0,\n",
       "  'BodyType': 3,\n",
       "  'DoB': datetime.datetime(1993, 3, 20, 0, 0),\n",
       "  'FirstName': 'Christian',\n",
       "  'Gender': 'Male',\n",
       "  'HeadType': 9,\n",
       "  'Id': 431977,\n",
       "  'LastName': 'Schmitz',\n",
       "  'NickName': 'Schlitscha',\n",
       "  'SkinColour': '0xfdc689ff'}]"
      ]
     },
     "execution_count": 12,
     "metadata": {},
     "output_type": "execute_result"
    }
   ],
   "source": [
    "[d for d in data if 'inazi' in d['Bio'].lower()]"
   ]
  },
  {
   "cell_type": "code",
   "execution_count": 13,
   "metadata": {
    "collapsed": false,
    "scrolled": false
   },
   "outputs": [
    {
     "data": {
      "text/plain": [
       "[{'Authorized': False,\n",
       "  'Bio': 'kills asians for a living',\n",
       "  'BodyScale': 1.0,\n",
       "  'BodyType': 4,\n",
       "  'DoB': datetime.datetime(2000, 2, 8, 0, 0),\n",
       "  'FirstName': 'Matthew',\n",
       "  'Gender': 'Male',\n",
       "  'HeadType': 17,\n",
       "  'Id': 419969,\n",
       "  'LastName': 'findlay',\n",
       "  'NickName': 'asian killer',\n",
       "  'SkinColour': '0x6d3e1cff'}]"
      ]
     },
     "execution_count": 13,
     "metadata": {},
     "output_type": "execute_result"
    }
   ],
   "source": [
    "# Despite being \"not authorized\", this one shows up in-game\n",
    "[d for d in data if 'kills asians' in d['Bio']]"
   ]
  },
  {
   "cell_type": "markdown",
   "metadata": {},
   "source": [
    "# Dump to more useful file formats"
   ]
  },
  {
   "cell_type": "code",
   "execution_count": 51,
   "metadata": {
    "collapsed": true
   },
   "outputs": [],
   "source": [
    "import copy\n",
    "import json"
   ]
  },
  {
   "cell_type": "code",
   "execution_count": 52,
   "metadata": {
    "collapsed": false
   },
   "outputs": [],
   "source": [
    "# Built-in serializers don't like datetype format, just use YYYY-MM-DD\n",
    "sdata = copy.deepcopy(data)\n",
    "for d in sdata:\n",
    "    d['DoB'] = d['DoB'].strftime('%Y-%m-%d')"
   ]
  },
  {
   "cell_type": "code",
   "execution_count": 57,
   "metadata": {
    "collapsed": false
   },
   "outputs": [],
   "source": [
    "with open('prison-architect-names.json', 'w') as f:\n",
    "    json.dump(sdata, f, indent=True)"
   ]
  },
  {
   "cell_type": "code",
   "execution_count": 54,
   "metadata": {
    "collapsed": true
   },
   "outputs": [],
   "source": [
    "# import csv #...pandas more easier\n",
    "import pandas as pd"
   ]
  },
  {
   "cell_type": "code",
   "execution_count": 55,
   "metadata": {
    "collapsed": false
   },
   "outputs": [],
   "source": [
    "df = pd.DataFrame(data)\n",
    "df.set_index('Id', inplace=True)"
   ]
  },
  {
   "cell_type": "code",
   "execution_count": 56,
   "metadata": {
    "collapsed": false
   },
   "outputs": [],
   "source": [
    "column_order = [\n",
    "    'FirstName',\n",
    "    'NickName',\n",
    "    'LastName',\n",
    "    'Gender',\n",
    "    'DoB',\n",
    "    'Authorized',\n",
    "    'BodyType',\n",
    "    'BodyScale',\n",
    "    'HeadType',\n",
    "    'SkinColour',\n",
    "    'Bio',\n",
    "]\n",
    "df.to_csv('prison-architect-names.csv', columns=column_order)"
   ]
  },
  {
   "cell_type": "code",
   "execution_count": null,
   "metadata": {
    "collapsed": true
   },
   "outputs": [],
   "source": []
  }
 ],
 "metadata": {
  "kernelspec": {
   "display_name": "Python 3",
   "language": "python",
   "name": "python3"
  },
  "language_info": {
   "codemirror_mode": {
    "name": "ipython",
    "version": 3
   },
   "file_extension": ".py",
   "mimetype": "text/x-python",
   "name": "python",
   "nbconvert_exporter": "python",
   "pygments_lexer": "ipython3",
   "version": "3.4.1"
  },
  "spitball": {
   "api_url": "",
   "desc": "",
   "id": "",
   "vis": ""
  }
 },
 "nbformat": 4,
 "nbformat_minor": 1
}
